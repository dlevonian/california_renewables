{
  "nbformat": 4,
  "nbformat_minor": 0,
  "metadata": {
    "colab": {
      "name": "caiso_forecast.ipynb",
      "provenance": [],
      "collapsed_sections": [],
      "toc_visible": true,
      "authorship_tag": "ABX9TyOlcXn6LcMlHn9l7Q7pnSbQ",
      "include_colab_link": true
    },
    "kernelspec": {
      "name": "python3",
      "display_name": "Python 3"
    },
    "accelerator": "GPU"
  },
  "cells": [
    {
      "cell_type": "markdown",
      "metadata": {
        "id": "view-in-github",
        "colab_type": "text"
      },
      "source": [
        "<a href=\"https://colab.research.google.com/github/dlevonian/california_renewables/blob/master/caiso_forecast.ipynb\" target=\"_parent\"><img src=\"https://colab.research.google.com/assets/colab-badge.svg\" alt=\"Open In Colab\"/></a>"
      ]
    },
    {
      "cell_type": "markdown",
      "metadata": {
        "id": "4rJQoRcd07BT",
        "colab_type": "text"
      },
      "source": [
        "# CAISO SOLAR"
      ]
    },
    {
      "cell_type": "code",
      "metadata": {
        "id": "4Hvytp-L08Qk",
        "colab_type": "code",
        "colab": {}
      },
      "source": [
        "import numpy as np\n",
        "import pandas as pd\n",
        "import matplotlib.pyplot as plt\n",
        "\n",
        "import time\n",
        "from datetime import datetime"
      ],
      "execution_count": 0,
      "outputs": []
    },
    {
      "cell_type": "code",
      "metadata": {
        "id": "nzVHK47y9ZUS",
        "colab_type": "code",
        "outputId": "69bcffa3-d971-4e21-b15b-f79a5e9a4086",
        "colab": {
          "base_uri": "https://localhost:8080/",
          "height": 34
        }
      },
      "source": [
        "import tensorflow as tf\n",
        "from tensorflow import keras\n",
        "\n",
        "tf.__version__"
      ],
      "execution_count": 5,
      "outputs": [
        {
          "output_type": "execute_result",
          "data": {
            "text/plain": [
              "'2.2.0-rc4'"
            ]
          },
          "metadata": {
            "tags": []
          },
          "execution_count": 5
        }
      ]
    },
    {
      "cell_type": "code",
      "metadata": {
        "id": "U8JNcwPj-uHl",
        "colab_type": "code",
        "outputId": "9eef70cb-e721-405f-f7ca-2953deda5860",
        "colab": {
          "base_uri": "https://localhost:8080/",
          "height": 34
        }
      },
      "source": [
        "from google.colab import drive\n",
        "drive.mount('/content/drive', force_remount=True)"
      ],
      "execution_count": 51,
      "outputs": [
        {
          "output_type": "stream",
          "text": [
            "Mounted at /content/drive\n"
          ],
          "name": "stdout"
        }
      ]
    },
    {
      "cell_type": "code",
      "metadata": {
        "id": "55pGGBhn-uPA",
        "colab_type": "code",
        "colab": {}
      },
      "source": [
        "path = '/content/drive/My Drive/NYCDSA/california_renewables/'  # Google Drive path"
      ],
      "execution_count": 0,
      "outputs": []
    },
    {
      "cell_type": "code",
      "metadata": {
        "id": "5UEjKh7C1Mvt",
        "colab_type": "code",
        "colab": {}
      },
      "source": [
        "df = pd.read_csv(path+'caiso_final.csv')"
      ],
      "execution_count": 0,
      "outputs": []
    },
    {
      "cell_type": "code",
      "metadata": {
        "id": "_yYyogEQFnn-",
        "colab_type": "code",
        "outputId": "1da25c27-f954-410a-ce82-1a66dd548b5d",
        "colab": {
          "base_uri": "https://localhost:8080/",
          "height": 215
        }
      },
      "source": [
        "df.head(5)"
      ],
      "execution_count": 54,
      "outputs": [
        {
          "output_type": "execute_result",
          "data": {
            "text/html": [
              "<div>\n",
              "<style scoped>\n",
              "    .dataframe tbody tr th:only-of-type {\n",
              "        vertical-align: middle;\n",
              "    }\n",
              "\n",
              "    .dataframe tbody tr th {\n",
              "        vertical-align: top;\n",
              "    }\n",
              "\n",
              "    .dataframe thead th {\n",
              "        text-align: right;\n",
              "    }\n",
              "</style>\n",
              "<table border=\"1\" class=\"dataframe\">\n",
              "  <thead>\n",
              "    <tr style=\"text-align: right;\">\n",
              "      <th></th>\n",
              "      <th>DATE</th>\n",
              "      <th>HOUR</th>\n",
              "      <th>GEOTHERMAL</th>\n",
              "      <th>BIOMASS</th>\n",
              "      <th>BIOGAS</th>\n",
              "      <th>SMALL_HYDRO</th>\n",
              "      <th>WIND</th>\n",
              "      <th>SOLAR_PV</th>\n",
              "      <th>SOLAR_THERMAL</th>\n",
              "      <th>RENEWABLES</th>\n",
              "      <th>NUCLEAR</th>\n",
              "      <th>THERMAL</th>\n",
              "      <th>IMPORTS</th>\n",
              "      <th>HYDRO</th>\n",
              "      <th>TOTAL</th>\n",
              "    </tr>\n",
              "  </thead>\n",
              "  <tbody>\n",
              "    <tr>\n",
              "      <th>0</th>\n",
              "      <td>20100420</td>\n",
              "      <td>1</td>\n",
              "      <td>1056</td>\n",
              "      <td>323</td>\n",
              "      <td>170</td>\n",
              "      <td>250</td>\n",
              "      <td>632</td>\n",
              "      <td>0</td>\n",
              "      <td>0</td>\n",
              "      <td>2431</td>\n",
              "      <td>3854</td>\n",
              "      <td>7707</td>\n",
              "      <td>4964</td>\n",
              "      <td>2514</td>\n",
              "      <td>21470</td>\n",
              "    </tr>\n",
              "    <tr>\n",
              "      <th>1</th>\n",
              "      <td>20100420</td>\n",
              "      <td>2</td>\n",
              "      <td>1055</td>\n",
              "      <td>318</td>\n",
              "      <td>169</td>\n",
              "      <td>245</td>\n",
              "      <td>632</td>\n",
              "      <td>0</td>\n",
              "      <td>0</td>\n",
              "      <td>2419</td>\n",
              "      <td>3859</td>\n",
              "      <td>7357</td>\n",
              "      <td>4651</td>\n",
              "      <td>2012</td>\n",
              "      <td>20298</td>\n",
              "    </tr>\n",
              "    <tr>\n",
              "      <th>2</th>\n",
              "      <td>20100420</td>\n",
              "      <td>3</td>\n",
              "      <td>1058</td>\n",
              "      <td>316</td>\n",
              "      <td>168</td>\n",
              "      <td>240</td>\n",
              "      <td>677</td>\n",
              "      <td>0</td>\n",
              "      <td>0</td>\n",
              "      <td>2460</td>\n",
              "      <td>3870</td>\n",
              "      <td>6765</td>\n",
              "      <td>4667</td>\n",
              "      <td>1914</td>\n",
              "      <td>19676</td>\n",
              "    </tr>\n",
              "    <tr>\n",
              "      <th>3</th>\n",
              "      <td>20100420</td>\n",
              "      <td>4</td>\n",
              "      <td>1063</td>\n",
              "      <td>318</td>\n",
              "      <td>168</td>\n",
              "      <td>238</td>\n",
              "      <td>923</td>\n",
              "      <td>0</td>\n",
              "      <td>0</td>\n",
              "      <td>2710</td>\n",
              "      <td>3887</td>\n",
              "      <td>6544</td>\n",
              "      <td>4823</td>\n",
              "      <td>1902</td>\n",
              "      <td>19866</td>\n",
              "    </tr>\n",
              "    <tr>\n",
              "      <th>4</th>\n",
              "      <td>20100420</td>\n",
              "      <td>5</td>\n",
              "      <td>1066</td>\n",
              "      <td>318</td>\n",
              "      <td>168</td>\n",
              "      <td>247</td>\n",
              "      <td>875</td>\n",
              "      <td>0</td>\n",
              "      <td>0</td>\n",
              "      <td>2674</td>\n",
              "      <td>3894</td>\n",
              "      <td>6623</td>\n",
              "      <td>4835</td>\n",
              "      <td>2213</td>\n",
              "      <td>20239</td>\n",
              "    </tr>\n",
              "  </tbody>\n",
              "</table>\n",
              "</div>"
            ],
            "text/plain": [
              "       DATE  HOUR  GEOTHERMAL  BIOMASS  ...  THERMAL  IMPORTS  HYDRO  TOTAL\n",
              "0  20100420     1        1056      323  ...     7707     4964   2514  21470\n",
              "1  20100420     2        1055      318  ...     7357     4651   2012  20298\n",
              "2  20100420     3        1058      316  ...     6765     4667   1914  19676\n",
              "3  20100420     4        1063      318  ...     6544     4823   1902  19866\n",
              "4  20100420     5        1066      318  ...     6623     4835   2213  20239\n",
              "\n",
              "[5 rows x 15 columns]"
            ]
          },
          "metadata": {
            "tags": []
          },
          "execution_count": 54
        }
      ]
    },
    {
      "cell_type": "code",
      "metadata": {
        "id": "U0hPaSF9o8c6",
        "colab_type": "code",
        "colab": {}
      },
      "source": [
        "def datetime_from_integers(date_int, hour_int):\n",
        "    date_str = str(date_int)\n",
        "    hour_str = str(hour_int-1) \n",
        "    if len(hour_str)==1: hour_str='0'+hour_str\n",
        "    return datetime.strptime(date_str+hour_str, '%Y%m%d%H')\n",
        "dt = list(map(datetime_from_integers, df.DATE.values, df.HOUR.values))"
      ],
      "execution_count": 0,
      "outputs": []
    },
    {
      "cell_type": "code",
      "metadata": {
        "id": "ncgIsRwdFnmR",
        "colab_type": "code",
        "outputId": "65b8fb80-3663-4972-fb3a-00e8720de466",
        "colab": {
          "base_uri": "https://localhost:8080/",
          "height": 286
        }
      },
      "source": [
        "df.dtypes"
      ],
      "execution_count": 56,
      "outputs": [
        {
          "output_type": "execute_result",
          "data": {
            "text/plain": [
              "DATE             int64\n",
              "HOUR             int64\n",
              "GEOTHERMAL       int64\n",
              "BIOMASS          int64\n",
              "BIOGAS           int64\n",
              "SMALL_HYDRO      int64\n",
              "WIND             int64\n",
              "SOLAR_PV         int64\n",
              "SOLAR_THERMAL    int64\n",
              "RENEWABLES       int64\n",
              "NUCLEAR          int64\n",
              "THERMAL          int64\n",
              "IMPORTS          int64\n",
              "HYDRO            int64\n",
              "TOTAL            int64\n",
              "dtype: object"
            ]
          },
          "metadata": {
            "tags": []
          },
          "execution_count": 56
        }
      ]
    },
    {
      "cell_type": "code",
      "metadata": {
        "id": "oQOPZoAPFnj9",
        "colab_type": "code",
        "outputId": "cdb4b790-4e60-4be9-a88f-9f6d6fae27cd",
        "colab": {
          "base_uri": "https://localhost:8080/",
          "height": 34
        }
      },
      "source": [
        "df.shape"
      ],
      "execution_count": 57,
      "outputs": [
        {
          "output_type": "execute_result",
          "data": {
            "text/plain": [
              "(87936, 15)"
            ]
          },
          "metadata": {
            "tags": []
          },
          "execution_count": 57
        }
      ]
    },
    {
      "cell_type": "code",
      "metadata": {
        "id": "CkfSHQheFnhA",
        "colab_type": "code",
        "colab": {}
      },
      "source": [
        "# FIRST, PREDICT SOLAR\n",
        "series = df['SOLAR_PV'].values + df['SOLAR_THERMAL'].values"
      ],
      "execution_count": 0,
      "outputs": []
    },
    {
      "cell_type": "code",
      "metadata": {
        "id": "hPUl3BKkBbzI",
        "colab_type": "code",
        "outputId": "095fa0d0-b284-468d-eff4-cf27736892ea",
        "colab": {
          "base_uri": "https://localhost:8080/",
          "height": 265
        }
      },
      "source": [
        "plt.figure(figsize=(8,4))\n",
        "plt.plot(series[80_000:80_500])\n",
        "plt.grid()"
      ],
      "execution_count": 59,
      "outputs": [
        {
          "output_type": "display_data",
          "data": {
            "image/png": "[encoded data removed]",
            "text/plain": [
              "<Figure size 576x288 with 1 Axes>"
            ]
          },
          "metadata": {
            "tags": [],
            "needs_background": "light"
          }
        }
      ]
    },
    {
      "cell_type": "code",
      "metadata": {
        "id": "g-yS3eO9Vy8s",
        "colab_type": "code",
        "colab": {}
      },
      "source": [
        ""
      ],
      "execution_count": 0,
      "outputs": []
    },
    {
      "cell_type": "markdown",
      "metadata": {
        "id": "AkTFR05xVy_A",
        "colab_type": "text"
      },
      "source": [
        "## Naive Forecast (persistence)"
      ]
    },
    {
      "cell_type": "code",
      "metadata": {
        "id": "kFILu-D8mSSd",
        "colab_type": "code",
        "colab": {}
      },
      "source": [
        "split_time = 79_200\n",
        "\n",
        "time_train = dt[:split_time]\n",
        "x_train = series[:split_time]\n",
        "\n",
        "time_test = dt[split_time:]\n",
        "x_test = series[split_time:]\n"
      ],
      "execution_count": 0,
      "outputs": []
    },
    {
      "cell_type": "code",
      "metadata": {
        "id": "_2BFNMMvmSU1",
        "colab_type": "code",
        "colab": {}
      },
      "source": [
        "naive_forecast = series[split_time-1:-1]"
      ],
      "execution_count": 0,
      "outputs": []
    },
    {
      "cell_type": "code",
      "metadata": {
        "id": "gqBIAKRrmSXO",
        "colab_type": "code",
        "outputId": "b37d275b-64ae-47f9-9666-9ef3ac97c1a7",
        "colab": {
          "base_uri": "https://localhost:8080/",
          "height": 265
        }
      },
      "source": [
        "plt.figure(figsize=(8,4))\n",
        "plt.plot(time_test[-100:], x_test[-100:], label='Actual')\n",
        "plt.plot(time_test[-100:], naive_forecast[-100:], label='Naive forecast')\n",
        "plt.legend()\n",
        "plt.show()"
      ],
      "execution_count": 62,
      "outputs": [
        {
          "output_type": "display_data",
          "data": {
            "image/png": "[encoded data removed]",
            "text/plain": [
              "<Figure size 576x288 with 1 Axes>"
            ]
          },
          "metadata": {
            "tags": [],
            "needs_background": "light"
          }
        }
      ]
    },
    {
      "cell_type": "code",
      "metadata": {
        "id": "9yvnz5BWmSZI",
        "colab_type": "code",
        "outputId": "ff72c2f3-4cdb-42a4-d611-3560bb6e9034",
        "colab": {
          "base_uri": "https://localhost:8080/",
          "height": 50
        }
      },
      "source": [
        "print(keras.metrics.mean_squared_error(x_test, naive_forecast).numpy())\n",
        "print(keras.metrics.mean_absolute_error(x_test, naive_forecast).numpy())"
      ],
      "execution_count": 63,
      "outputs": [
        {
          "output_type": "stream",
          "text": [
            "2008635\n",
            "755\n"
          ],
          "name": "stdout"
        }
      ]
    },
    {
      "cell_type": "code",
      "metadata": {
        "id": "Qj1SpVCZoqRw",
        "colab_type": "code",
        "colab": {}
      },
      "source": [
        ""
      ],
      "execution_count": 0,
      "outputs": []
    },
    {
      "cell_type": "markdown",
      "metadata": {
        "id": "8NWa8T5foqUV",
        "colab_type": "text"
      },
      "source": [
        "## Differencing Moving Average"
      ]
    },
    {
      "cell_type": "code",
      "metadata": {
        "id": "pworKSKZoqWC",
        "colab_type": "code",
        "colab": {}
      },
      "source": [
        "def moving_average_forecast(series, window_size):\n",
        "    \"\"\"Forecasts the mean of the last few values.\n",
        "        If window_size=1, then this is equivalent to naive forecast\"\"\"\n",
        "    forecast = []\n",
        "    for time in range(len(series) - window_size):\n",
        "        forecast.append(series[time:time + window_size].mean())\n",
        "    return np.array(forecast)"
      ],
      "execution_count": 0,
      "outputs": []
    },
    {
      "cell_type": "code",
      "metadata": {
        "id": "PLnAMdL7BKLY",
        "colab_type": "code",
        "colab": {}
      },
      "source": [
        "window_size=24\n",
        "moving_avg = moving_average_forecast(series, window_size)#[-240:]\n"
      ],
      "execution_count": 0,
      "outputs": []
    },
    {
      "cell_type": "code",
      "metadata": {
        "id": "6zcYmTnnHReQ",
        "colab_type": "code",
        "outputId": "9abe7ef0-abd8-47c0-a21a-c749856f9bf1",
        "colab": {
          "base_uri": "https://localhost:8080/",
          "height": 34
        }
      },
      "source": [
        "# len(series)-window_size+1 \n",
        "len(moving_avg)"
      ],
      "execution_count": 66,
      "outputs": [
        {
          "output_type": "execute_result",
          "data": {
            "text/plain": [
              "87912"
            ]
          },
          "metadata": {
            "tags": []
          },
          "execution_count": 66
        }
      ]
    },
    {
      "cell_type": "code",
      "metadata": {
        "id": "fG7qeLohIWF4",
        "colab_type": "code",
        "colab": {}
      },
      "source": [
        "ma_forecast = moving_avg[split_time-window_size-1:-1]"
      ],
      "execution_count": 0,
      "outputs": []
    },
    {
      "cell_type": "code",
      "metadata": {
        "id": "QD6DxOkgIu-g",
        "colab_type": "code",
        "outputId": "cceb9546-c0e1-4e78-8173-a3fffe2e0333",
        "colab": {
          "base_uri": "https://localhost:8080/",
          "height": 50
        }
      },
      "source": [
        "print(keras.metrics.mean_squared_error(x_test, ma_forecast).numpy())\n",
        "print(keras.metrics.mean_absolute_error(x_test, ma_forecast).numpy())"
      ],
      "execution_count": 68,
      "outputs": [
        {
          "output_type": "stream",
          "text": [
            "15229633.300852396\n",
            "3549.1429429945056\n"
          ],
          "name": "stdout"
        }
      ]
    },
    {
      "cell_type": "code",
      "metadata": {
        "id": "lcShgM_GBKN_",
        "colab_type": "code",
        "outputId": "8608e5b4-0f4e-40ea-aaed-f31b59507fbc",
        "colab": {
          "base_uri": "https://localhost:8080/",
          "height": 265
        }
      },
      "source": [
        "plt.figure(figsize=(8,4))\n",
        "plt.plot(time_test[-100:], x_test[-100:], label='Actual')\n",
        "plt.plot(time_test[-100:], ma_forecast[-100:], label='MA forecast')\n",
        "plt.legend()\n",
        "plt.show()"
      ],
      "execution_count": 69,
      "outputs": [
        {
          "output_type": "display_data",
          "data": {
            "image/png": "[encoded data removed]",
            "text/plain": [
              "<Figure size 576x288 with 1 Axes>"
            ]
          },
          "metadata": {
            "tags": [],
            "needs_background": "light"
          }
        }
      ]
    },
    {
      "cell_type": "code",
      "metadata": {
        "id": "bQhoohgGBKUy",
        "colab_type": "code",
        "outputId": "3f5f899a-1f86-4ccd-9be8-7ac3157fa355",
        "colab": {
          "base_uri": "https://localhost:8080/",
          "height": 374
        }
      },
      "source": [
        "# DIFFERENCING\n",
        "diff_series = (series[24:] - series[:-24])\n",
        "diff_time = dt[24:]\n",
        "\n",
        "plt.figure(figsize=(10, 6))\n",
        "plt.plot(diff_time[:500], diff_series[:500])\n",
        "plt.show()"
      ],
      "execution_count": 70,
      "outputs": [
        {
          "output_type": "display_data",
          "data": {
            "image/png": "[encoded data removed]",
            "text/plain": [
              "<Figure size 720x432 with 1 Axes>"
            ]
          },
          "metadata": {
            "tags": [],
            "needs_background": "light"
          }
        }
      ]
    },
    {
      "cell_type": "code",
      "metadata": {
        "id": "DnwTxzolKVEu",
        "colab_type": "code",
        "colab": {}
      },
      "source": [
        "w = 2\n",
        "diff_moving_avg = moving_average_forecast(diff_series, w)[split_time - 24 - w:]\n",
        "\n",
        "diff_forecast =\\\n",
        "moving_average_forecast(series[split_time - int(24+w/2):-int(24-w/2)], w) + diff_moving_avg\n",
        "\n",
        "diff_forecast=np.maximum(0,diff_forecast)"
      ],
      "execution_count": 0,
      "outputs": []
    },
    {
      "cell_type": "code",
      "metadata": {
        "id": "aLT8JwYZKVHP",
        "colab_type": "code",
        "outputId": "d6ecd166-1f03-4a70-a222-413a807174c3",
        "colab": {
          "base_uri": "https://localhost:8080/",
          "height": 374
        }
      },
      "source": [
        "plt.figure(figsize=(12, 6))\n",
        "plt.plot(time_test[-1000:], x_test[-1000:], label='Actual')\n",
        "plt.plot(time_test[-1000:], diff_forecast[-1000:], label='DIFF forecast')\n",
        "plt.legend()\n",
        "plt.show()"
      ],
      "execution_count": 72,
      "outputs": [
        {
          "output_type": "display_data",
          "data": {
            "image/png": "[encoded data removed]",
            "text/plain": [
              "<Figure size 864x432 with 1 Axes>"
            ]
          },
          "metadata": {
            "tags": [],
            "needs_background": "light"
          }
        }
      ]
    },
    {
      "cell_type": "code",
      "metadata": {
        "id": "eb1CARZ3KVJi",
        "colab_type": "code",
        "outputId": "e3305db6-948a-4b57-a31d-f9b2f6a108fb",
        "colab": {
          "base_uri": "https://localhost:8080/",
          "height": 50
        }
      },
      "source": [
        "print(keras.metrics.mean_squared_error(x_test, diff_forecast).numpy())\n",
        "print(keras.metrics.mean_absolute_error(x_test, diff_forecast).numpy())"
      ],
      "execution_count": 73,
      "outputs": [
        {
          "output_type": "stream",
          "text": [
            "664768.2264480311\n",
            "444.5673649267399\n"
          ],
          "name": "stdout"
        }
      ]
    },
    {
      "cell_type": "code",
      "metadata": {
        "id": "rRaY_NvHMnO3",
        "colab_type": "code",
        "colab": {}
      },
      "source": [
        ""
      ],
      "execution_count": 0,
      "outputs": []
    },
    {
      "cell_type": "markdown",
      "metadata": {
        "id": "0zfeIwN2MnRj",
        "colab_type": "text"
      },
      "source": [
        "## Conv1D+LSTMs"
      ]
    },
    {
      "cell_type": "code",
      "metadata": {
        "id": "GCBl6EygOSow",
        "colab_type": "code",
        "colab": {}
      },
      "source": [
        "# reproducibility\n",
        "tf.random.set_seed(2020)\n",
        "np.random.seed(2020)\n"
      ],
      "execution_count": 0,
      "outputs": []
    },
    {
      "cell_type": "code",
      "metadata": {
        "id": "meQMFl02MnT0",
        "colab_type": "code",
        "colab": {}
      },
      "source": [
        "def windowed_dataset(series, window_size, batch_size, shuffle_buffer):\n",
        "    series = series[..., np.newaxis]\n",
        "    ds = tf.data.Dataset.from_tensor_slices(series)\n",
        "    ds = ds.window(window_size + 1, shift=1, drop_remainder=True)\n",
        "    ds = ds.flat_map(lambda w: w.batch(window_size + 1))\n",
        "    ds = ds.shuffle(shuffle_buffer)\n",
        "    ds = ds.map(lambda w: (w[:-1], w[1:]))\n",
        "    return ds.batch(batch_size).prefetch(1)\n"
      ],
      "execution_count": 0,
      "outputs": []
    },
    {
      "cell_type": "code",
      "metadata": {
        "id": "VJx1y60_MnaB",
        "colab_type": "code",
        "colab": {}
      },
      "source": [
        "window_size =  48  \n",
        "batch_size = 32\n",
        "shuffle_buffer_size = 1000"
      ],
      "execution_count": 0,
      "outputs": []
    },
    {
      "cell_type": "code",
      "metadata": {
        "id": "UcOdxVeKRBkJ",
        "colab_type": "code",
        "colab": {}
      },
      "source": [
        "x_train = x_train[-20_000:]"
      ],
      "execution_count": 0,
      "outputs": []
    },
    {
      "cell_type": "code",
      "metadata": {
        "id": "_baLVMhXOCFC",
        "colab_type": "code",
        "colab": {}
      },
      "source": [
        "train_set = windowed_dataset(x_train, \n",
        "                             window_size=window_size, \n",
        "                             batch_size=batch_size, \n",
        "                             shuffle_buffer=shuffle_buffer_size)\n",
        "\n",
        "val_set = windowed_dataset(x_test, \n",
        "                             window_size=window_size, \n",
        "                             batch_size=batch_size, \n",
        "                             shuffle_buffer=shuffle_buffer_size)\n"
      ],
      "execution_count": 0,
      "outputs": []
    },
    {
      "cell_type": "code",
      "metadata": {
        "id": "SZTpVU7HOCHb",
        "colab_type": "code",
        "outputId": "a8f046ae-1bf6-4446-c923-3609b08d7530",
        "colab": {
          "base_uri": "https://localhost:8080/",
          "height": 50
        }
      },
      "source": [
        "train_set.element_spec"
      ],
      "execution_count": 189,
      "outputs": [
        {
          "output_type": "execute_result",
          "data": {
            "text/plain": [
              "(TensorSpec(shape=(None, None, 1), dtype=tf.int64, name=None),\n",
              " TensorSpec(shape=(None, None, 1), dtype=tf.int64, name=None))"
            ]
          },
          "metadata": {
            "tags": []
          },
          "execution_count": 189
        }
      ]
    },
    {
      "cell_type": "code",
      "metadata": {
        "id": "wvg8BPh_OCKD",
        "colab_type": "code",
        "outputId": "32a4fdd7-ebe3-47ff-8e12-88ba50c1a8ff",
        "colab": {
          "base_uri": "https://localhost:8080/",
          "height": 353
        }
      },
      "source": [
        "model = tf.keras.models.Sequential([\n",
        "    tf.keras.layers.Conv1D(filters=128, \n",
        "                           kernel_size=6,\n",
        "                        strides=1, padding=\"causal\",\n",
        "                        activation=\"relu\",\n",
        "                        input_shape=[None, 1]),\n",
        "    tf.keras.layers.LSTM(128, return_sequences=True),\n",
        "    tf.keras.layers.LSTM(128, return_sequences=True),\n",
        "    tf.keras.layers.Dense(30, activation=\"relu\"),\n",
        "    tf.keras.layers.Dense(10, activation=\"relu\"),\n",
        "    tf.keras.layers.Dense(1)  #, activation=\"relu\"),  #non-negative output\n",
        "])\n",
        "\n",
        "model.summary()"
      ],
      "execution_count": 190,
      "outputs": [
        {
          "output_type": "stream",
          "text": [
            "Model: \"sequential_7\"\n",
            "_________________________________________________________________\n",
            "Layer (type)                 Output Shape              Param #   \n",
            "=================================================================\n",
            "conv1d_7 (Conv1D)            (None, None, 128)         896       \n",
            "_________________________________________________________________\n",
            "lstm_14 (LSTM)               (None, None, 128)         131584    \n",
            "_________________________________________________________________\n",
            "lstm_15 (LSTM)               (None, None, 128)         131584    \n",
            "_________________________________________________________________\n",
            "dense_21 (Dense)             (None, None, 30)          3870      \n",
            "_________________________________________________________________\n",
            "dense_22 (Dense)             (None, None, 10)          310       \n",
            "_________________________________________________________________\n",
            "dense_23 (Dense)             (None, None, 1)           11        \n",
            "=================================================================\n",
            "Total params: 268,255\n",
            "Trainable params: 268,255\n",
            "Non-trainable params: 0\n",
            "_________________________________________________________________\n"
          ],
          "name": "stdout"
        }
      ]
    },
    {
      "cell_type": "code",
      "metadata": {
        "id": "Fw05ahlLozkq",
        "colab_type": "code",
        "colab": {}
      },
      "source": [
        "def scheduler(epoch, lr):\n",
        "    # keep the original lr for flat_period epochs, exponential decay after that, \n",
        "    # floor at floor_ratio of the original lr\n",
        "    flat_period, decay, floor_lr = (10, -0.05, 0.0001)\n",
        "    if epoch<flat_period:   \n",
        "        return lr\n",
        "    else:  \n",
        "        return max(lr*np.exp(decay), floor_lr)\n",
        "\n",
        "lr_callback = tf.keras.callbacks.LearningRateScheduler(scheduler, verbose=1)\n"
      ],
      "execution_count": 0,
      "outputs": []
    },
    {
      "cell_type": "code",
      "metadata": {
        "id": "U2Ld4L6jOCPQ",
        "colab_type": "code",
        "outputId": "dd242624-612d-4bd8-968c-13d7032941d8",
        "colab": {
          "base_uri": "https://localhost:8080/",
          "height": 1000
        }
      },
      "source": [
        "tic = time.time()\n",
        "model.compile(loss='mae',   \n",
        "              optimizer=tf.keras.optimizers.Adam(lr=1e-3),\n",
        "              metrics=['mae'])\n",
        "\n",
        "EPOCHS=100\n",
        "\n",
        "history = model.fit(train_set, \n",
        "                    epochs=EPOCHS,  \n",
        "                    validation_data=val_set,\n",
        "                    callbacks=[lr_callback],\n",
        "                    verbose=1)\n",
        "\n",
        "toc = time.time()\n",
        "print(f'complete {toc-tic:.2f}')"
      ],
      "execution_count": 196,
      "outputs": [
        {
          "output_type": "stream",
          "text": [
            "\n",
            "Epoch 00001: LearningRateScheduler reducing learning rate to 0.0010000000474974513.\n",
            "Epoch 1/100\n",
            "311/311 [==============================] - 5s 17ms/step - loss: 3018.7417 - mae: 3018.7412 - val_loss: 2640.4390 - val_mae: 2640.4382 - lr: 0.0010\n",
            "\n",
            "Epoch 00002: LearningRateScheduler reducing learning rate to 0.0010000000474974513.\n",
            "Epoch 2/100\n",
            "311/311 [==============================] - 5s 16ms/step - loss: 1517.2599 - mae: 1517.2590 - val_loss: 799.5769 - val_mae: 799.5778 - lr: 0.0010\n",
            "\n",
            "Epoch 00003: LearningRateScheduler reducing learning rate to 0.0010000000474974513.\n",
            "Epoch 3/100\n",
            "311/311 [==============================] - 5s 15ms/step - loss: 497.1495 - mae: 497.1496 - val_loss: 604.7999 - val_mae: 604.7996 - lr: 0.0010\n",
            "\n",
            "Epoch 00004: LearningRateScheduler reducing learning rate to 0.0010000000474974513.\n",
            "Epoch 4/100\n",
            "311/311 [==============================] - 5s 16ms/step - loss: 437.1020 - mae: 437.1020 - val_loss: 587.0258 - val_mae: 587.0259 - lr: 0.0010\n",
            "\n",
            "Epoch 00005: LearningRateScheduler reducing learning rate to 0.0010000000474974513.\n",
            "Epoch 5/100\n",
            "311/311 [==============================] - 5s 16ms/step - loss: 422.0664 - mae: 422.0663 - val_loss: 698.6051 - val_mae: 698.6050 - lr: 0.0010\n",
            "\n",
            "Epoch 00006: LearningRateScheduler reducing learning rate to 0.0010000000474974513.\n",
            "Epoch 6/100\n",
            "311/311 [==============================] - 5s 15ms/step - loss: 413.9260 - mae: 413.9259 - val_loss: 583.7119 - val_mae: 583.7120 - lr: 0.0010\n",
            "\n",
            "Epoch 00007: LearningRateScheduler reducing learning rate to 0.0010000000474974513.\n",
            "Epoch 7/100\n",
            "311/311 [==============================] - 5s 16ms/step - loss: 397.1401 - mae: 397.1400 - val_loss: 572.9704 - val_mae: 572.9702 - lr: 0.0010\n",
            "\n",
            "Epoch 00008: LearningRateScheduler reducing learning rate to 0.0010000000474974513.\n",
            "Epoch 8/100\n",
            "311/311 [==============================] - 5s 16ms/step - loss: 418.3195 - mae: 418.3194 - val_loss: 562.4488 - val_mae: 562.4488 - lr: 0.0010\n",
            "\n",
            "Epoch 00009: LearningRateScheduler reducing learning rate to 0.0010000000474974513.\n",
            "Epoch 9/100\n",
            "311/311 [==============================] - 5s 16ms/step - loss: 391.7260 - mae: 391.7263 - val_loss: 520.1411 - val_mae: 520.1411 - lr: 0.0010\n",
            "\n",
            "Epoch 00010: LearningRateScheduler reducing learning rate to 0.0010000000474974513.\n",
            "Epoch 10/100\n",
            "311/311 [==============================] - 5s 15ms/step - loss: 388.8163 - mae: 388.8160 - val_loss: 503.6607 - val_mae: 503.6608 - lr: 0.0010\n",
            "\n",
            "Epoch 00011: LearningRateScheduler reducing learning rate to 0.0009512294696816873.\n",
            "Epoch 11/100\n",
            "311/311 [==============================] - 5s 16ms/step - loss: 366.0624 - mae: 366.0624 - val_loss: 491.1010 - val_mae: 491.1010 - lr: 9.5123e-04\n",
            "\n",
            "Epoch 00012: LearningRateScheduler reducing learning rate to 0.000904837469147275.\n",
            "Epoch 12/100\n",
            "311/311 [==============================] - 5s 16ms/step - loss: 364.6447 - mae: 364.6447 - val_loss: 583.8381 - val_mae: 583.8380 - lr: 9.0484e-04\n",
            "\n",
            "Epoch 00013: LearningRateScheduler reducing learning rate to 0.0008607080055132933.\n",
            "Epoch 13/100\n",
            "311/311 [==============================] - 5s 16ms/step - loss: 361.3104 - mae: 361.3103 - val_loss: 489.2765 - val_mae: 489.2766 - lr: 8.6071e-04\n",
            "\n",
            "Epoch 00014: LearningRateScheduler reducing learning rate to 0.0008187307840508762.\n",
            "Epoch 14/100\n",
            "311/311 [==============================] - 5s 16ms/step - loss: 341.8073 - mae: 341.8072 - val_loss: 459.3776 - val_mae: 459.3778 - lr: 8.1873e-04\n",
            "\n",
            "Epoch 00015: LearningRateScheduler reducing learning rate to 0.0007788008254397777.\n",
            "Epoch 15/100\n",
            "311/311 [==============================] - 5s 15ms/step - loss: 337.0978 - mae: 337.0977 - val_loss: 453.8228 - val_mae: 453.8228 - lr: 7.7880e-04\n",
            "\n",
            "Epoch 00016: LearningRateScheduler reducing learning rate to 0.0007408182442930122.\n",
            "Epoch 16/100\n",
            "311/311 [==============================] - 5s 16ms/step - loss: 329.3074 - mae: 329.3077 - val_loss: 451.4696 - val_mae: 451.4697 - lr: 7.4082e-04\n",
            "\n",
            "Epoch 00017: LearningRateScheduler reducing learning rate to 0.0007046881384191763.\n",
            "Epoch 17/100\n",
            "311/311 [==============================] - 5s 16ms/step - loss: 323.2898 - mae: 323.2898 - val_loss: 412.9167 - val_mae: 412.9166 - lr: 7.0469e-04\n",
            "\n",
            "Epoch 00018: LearningRateScheduler reducing learning rate to 0.0006703200905028888.\n",
            "Epoch 18/100\n",
            "311/311 [==============================] - 5s 16ms/step - loss: 354.3487 - mae: 354.3489 - val_loss: 511.7813 - val_mae: 511.7812 - lr: 6.7032e-04\n",
            "\n",
            "Epoch 00019: LearningRateScheduler reducing learning rate to 0.0006376281681047922.\n",
            "Epoch 19/100\n",
            "311/311 [==============================] - 5s 15ms/step - loss: 317.2080 - mae: 317.2080 - val_loss: 409.0682 - val_mae: 409.0683 - lr: 6.3763e-04\n",
            "\n",
            "Epoch 00020: LearningRateScheduler reducing learning rate to 0.0006065307021861932.\n",
            "Epoch 20/100\n",
            "311/311 [==============================] - 5s 16ms/step - loss: 309.5493 - mae: 309.5494 - val_loss: 414.6547 - val_mae: 414.6547 - lr: 6.0653e-04\n",
            "\n",
            "Epoch 00021: LearningRateScheduler reducing learning rate to 0.0005769498441583437.\n",
            "Epoch 21/100\n",
            "311/311 [==============================] - 5s 15ms/step - loss: 320.1953 - mae: 320.1953 - val_loss: 421.3669 - val_mae: 421.3669 - lr: 5.7695e-04\n",
            "\n",
            "Epoch 00022: LearningRateScheduler reducing learning rate to 0.000548811676620121.\n",
            "Epoch 22/100\n",
            "311/311 [==============================] - 5s 15ms/step - loss: 310.4235 - mae: 310.4234 - val_loss: 404.8423 - val_mae: 404.8422 - lr: 5.4881e-04\n",
            "\n",
            "Epoch 00023: LearningRateScheduler reducing learning rate to 0.0005220458257761493.\n",
            "Epoch 23/100\n",
            "311/311 [==============================] - 5s 15ms/step - loss: 296.7366 - mae: 296.7366 - val_loss: 403.1543 - val_mae: 403.1541 - lr: 5.2205e-04\n",
            "\n",
            "Epoch 00024: LearningRateScheduler reducing learning rate to 0.0004965853506991197.\n",
            "Epoch 24/100\n",
            "311/311 [==============================] - 5s 15ms/step - loss: 294.9375 - mae: 294.9376 - val_loss: 407.3680 - val_mae: 407.3682 - lr: 4.9659e-04\n",
            "\n",
            "Epoch 00025: LearningRateScheduler reducing learning rate to 0.0004723665772232711.\n",
            "Epoch 25/100\n",
            "311/311 [==============================] - 5s 16ms/step - loss: 287.1220 - mae: 287.1220 - val_loss: 383.9652 - val_mae: 383.9652 - lr: 4.7237e-04\n",
            "\n",
            "Epoch 00026: LearningRateScheduler reducing learning rate to 0.0004493289872067105.\n",
            "Epoch 26/100\n",
            "311/311 [==============================] - 5s 16ms/step - loss: 282.7676 - mae: 282.7676 - val_loss: 415.9730 - val_mae: 415.9730 - lr: 4.4933e-04\n",
            "\n",
            "Epoch 00027: LearningRateScheduler reducing learning rate to 0.0004274149416872143.\n",
            "Epoch 27/100\n",
            "311/311 [==============================] - 5s 15ms/step - loss: 281.6624 - mae: 281.6624 - val_loss: 381.3480 - val_mae: 381.3480 - lr: 4.2741e-04\n",
            "\n",
            "Epoch 00028: LearningRateScheduler reducing learning rate to 0.00040656968088222795.\n",
            "Epoch 28/100\n",
            "311/311 [==============================] - 5s 16ms/step - loss: 269.1049 - mae: 269.1048 - val_loss: 370.3981 - val_mae: 370.3981 - lr: 4.0657e-04\n",
            "\n",
            "Epoch 00029: LearningRateScheduler reducing learning rate to 0.00038674104734466705.\n",
            "Epoch 29/100\n",
            "311/311 [==============================] - 5s 16ms/step - loss: 268.1528 - mae: 268.1527 - val_loss: 369.3412 - val_mae: 369.3411 - lr: 3.8674e-04\n",
            "\n",
            "Epoch 00030: LearningRateScheduler reducing learning rate to 0.0003678794582784977.\n",
            "Epoch 30/100\n",
            "311/311 [==============================] - 5s 15ms/step - loss: 266.6853 - mae: 266.6854 - val_loss: 368.0240 - val_mae: 368.0235 - lr: 3.6788e-04\n",
            "\n",
            "Epoch 00031: LearningRateScheduler reducing learning rate to 0.0003499377671166368.\n",
            "Epoch 31/100\n",
            "311/311 [==============================] - 5s 15ms/step - loss: 263.2103 - mae: 263.2104 - val_loss: 364.1985 - val_mae: 364.1986 - lr: 3.4994e-04\n",
            "\n",
            "Epoch 00032: LearningRateScheduler reducing learning rate to 0.00033287109741443274.\n",
            "Epoch 32/100\n",
            "311/311 [==============================] - 5s 15ms/step - loss: 259.6539 - mae: 259.6539 - val_loss: 353.4967 - val_mae: 353.4970 - lr: 3.3287e-04\n",
            "\n",
            "Epoch 00033: LearningRateScheduler reducing learning rate to 0.0003166367874808256.\n",
            "Epoch 33/100\n",
            "311/311 [==============================] - 5s 16ms/step - loss: 253.5744 - mae: 253.5744 - val_loss: 344.7083 - val_mae: 344.7082 - lr: 3.1664e-04\n",
            "\n",
            "Epoch 00034: LearningRateScheduler reducing learning rate to 0.0003011942242718277.\n",
            "Epoch 34/100\n",
            "311/311 [==============================] - 5s 15ms/step - loss: 248.8081 - mae: 248.8082 - val_loss: 353.9799 - val_mae: 353.9800 - lr: 3.0119e-04\n",
            "\n",
            "Epoch 00035: LearningRateScheduler reducing learning rate to 0.0002865048157061039.\n",
            "Epoch 35/100\n",
            "311/311 [==============================] - 5s 16ms/step - loss: 250.8693 - mae: 250.8694 - val_loss: 342.1039 - val_mae: 342.1038 - lr: 2.8650e-04\n",
            "\n",
            "Epoch 00036: LearningRateScheduler reducing learning rate to 0.000272531824558452.\n",
            "Epoch 36/100\n",
            "311/311 [==============================] - 5s 15ms/step - loss: 248.0688 - mae: 248.0688 - val_loss: 342.1475 - val_mae: 342.1476 - lr: 2.7253e-04\n",
            "\n",
            "Epoch 00037: LearningRateScheduler reducing learning rate to 0.0002592402854065433.\n",
            "Epoch 37/100\n",
            "311/311 [==============================] - 5s 16ms/step - loss: 244.1774 - mae: 244.1774 - val_loss: 339.8040 - val_mae: 339.8039 - lr: 2.5924e-04\n",
            "\n",
            "Epoch 00038: LearningRateScheduler reducing learning rate to 0.0002465969769465023.\n",
            "Epoch 38/100\n",
            "311/311 [==============================] - 5s 15ms/step - loss: 239.5666 - mae: 239.5665 - val_loss: 341.3265 - val_mae: 341.3266 - lr: 2.4660e-04\n",
            "\n",
            "Epoch 00039: LearningRateScheduler reducing learning rate to 0.0002345703112552276.\n",
            "Epoch 39/100\n",
            "311/311 [==============================] - 5s 16ms/step - loss: 239.2016 - mae: 239.2016 - val_loss: 334.3494 - val_mae: 334.3495 - lr: 2.3457e-04\n",
            "\n",
            "Epoch 00040: LearningRateScheduler reducing learning rate to 0.00022313018152608216.\n",
            "Epoch 40/100\n",
            "311/311 [==============================] - 5s 16ms/step - loss: 240.6853 - mae: 240.6852 - val_loss: 333.9014 - val_mae: 333.9013 - lr: 2.2313e-04\n",
            "\n",
            "Epoch 00041: LearningRateScheduler reducing learning rate to 0.00021224798975331329.\n",
            "Epoch 41/100\n",
            "311/311 [==============================] - 5s 16ms/step - loss: 236.0919 - mae: 236.0919 - val_loss: 333.9785 - val_mae: 333.9785 - lr: 2.1225e-04\n",
            "\n",
            "Epoch 00042: LearningRateScheduler reducing learning rate to 0.00020189653599437304.\n",
            "Epoch 42/100\n",
            "311/311 [==============================] - 5s 15ms/step - loss: 232.3969 - mae: 232.3968 - val_loss: 332.4149 - val_mae: 332.4149 - lr: 2.0190e-04\n",
            "\n",
            "Epoch 00043: LearningRateScheduler reducing learning rate to 0.00019204992147444855.\n",
            "Epoch 43/100\n",
            "311/311 [==============================] - 5s 16ms/step - loss: 232.0437 - mae: 232.0437 - val_loss: 327.2791 - val_mae: 327.2790 - lr: 1.9205e-04\n",
            "\n",
            "Epoch 00044: LearningRateScheduler reducing learning rate to 0.00018268353474425221.\n",
            "Epoch 44/100\n",
            "311/311 [==============================] - 5s 15ms/step - loss: 229.7242 - mae: 229.7243 - val_loss: 326.5245 - val_mae: 326.5244 - lr: 1.8268e-04\n",
            "\n",
            "Epoch 00045: LearningRateScheduler reducing learning rate to 0.0001737739547845519.\n",
            "Epoch 45/100\n",
            "311/311 [==============================] - 5s 16ms/step - loss: 227.8034 - mae: 227.8034 - val_loss: 321.0659 - val_mae: 321.0658 - lr: 1.7377e-04\n",
            "\n",
            "Epoch 00046: LearningRateScheduler reducing learning rate to 0.0001652988956373312.\n",
            "Epoch 46/100\n",
            "311/311 [==============================] - 5s 16ms/step - loss: 227.6184 - mae: 227.6183 - val_loss: 319.4488 - val_mae: 319.4489 - lr: 1.6530e-04\n",
            "\n",
            "Epoch 00047: LearningRateScheduler reducing learning rate to 0.0001572371787213696.\n",
            "Epoch 47/100\n",
            "311/311 [==============================] - 5s 15ms/step - loss: 224.9154 - mae: 224.9153 - val_loss: 316.2099 - val_mae: 316.2098 - lr: 1.5724e-04\n",
            "\n",
            "Epoch 00048: LearningRateScheduler reducing learning rate to 0.0001495686359367728.\n",
            "Epoch 48/100\n",
            "311/311 [==============================] - 5s 15ms/step - loss: 221.6596 - mae: 221.6596 - val_loss: 318.6005 - val_mae: 318.6004 - lr: 1.4957e-04\n",
            "\n",
            "Epoch 00049: LearningRateScheduler reducing learning rate to 0.00014227408198055273.\n",
            "Epoch 49/100\n",
            "311/311 [==============================] - 5s 15ms/step - loss: 221.2322 - mae: 221.2323 - val_loss: 319.1596 - val_mae: 319.1596 - lr: 1.4227e-04\n",
            "\n",
            "Epoch 00050: LearningRateScheduler reducing learning rate to 0.00013533528666220782.\n",
            "Epoch 50/100\n",
            "311/311 [==============================] - 5s 16ms/step - loss: 219.8311 - mae: 219.8310 - val_loss: 316.8239 - val_mae: 316.8239 - lr: 1.3534e-04\n",
            "\n",
            "Epoch 00051: LearningRateScheduler reducing learning rate to 0.00012873490569267313.\n",
            "Epoch 51/100\n",
            "311/311 [==============================] - 5s 15ms/step - loss: 218.4607 - mae: 218.4605 - val_loss: 315.4447 - val_mae: 315.4447 - lr: 1.2873e-04\n",
            "\n",
            "Epoch 00052: LearningRateScheduler reducing learning rate to 0.00012245642531548065.\n",
            "Epoch 52/100\n",
            "311/311 [==============================] - 5s 15ms/step - loss: 216.8849 - mae: 216.8849 - val_loss: 317.2956 - val_mae: 317.2958 - lr: 1.2246e-04\n",
            "\n",
            "Epoch 00053: LearningRateScheduler reducing learning rate to 0.00011648414846454927.\n",
            "Epoch 53/100\n",
            "311/311 [==============================] - 5s 15ms/step - loss: 214.6592 - mae: 214.6592 - val_loss: 313.8276 - val_mae: 313.8274 - lr: 1.1648e-04\n",
            "\n",
            "Epoch 00054: LearningRateScheduler reducing learning rate to 0.00011080314631644998.\n",
            "Epoch 54/100\n",
            "311/311 [==============================] - 5s 16ms/step - loss: 215.0101 - mae: 215.0101 - val_loss: 310.4330 - val_mae: 310.4329 - lr: 1.1080e-04\n",
            "\n",
            "Epoch 00055: LearningRateScheduler reducing learning rate to 0.00010539920984267111.\n",
            "Epoch 55/100\n",
            "311/311 [==============================] - 5s 16ms/step - loss: 214.5900 - mae: 214.5901 - val_loss: 307.9869 - val_mae: 307.9868 - lr: 1.0540e-04\n",
            "\n",
            "Epoch 00056: LearningRateScheduler reducing learning rate to 0.00010025882904630336.\n",
            "Epoch 56/100\n",
            "311/311 [==============================] - 5s 16ms/step - loss: 210.3385 - mae: 210.3386 - val_loss: 308.6371 - val_mae: 308.6370 - lr: 1.0026e-04\n",
            "\n",
            "Epoch 00057: LearningRateScheduler reducing learning rate to 0.0001.\n",
            "Epoch 57/100\n",
            "311/311 [==============================] - 5s 16ms/step - loss: 208.8636 - mae: 208.8636 - val_loss: 307.6658 - val_mae: 307.6659 - lr: 1.0000e-04\n",
            "\n",
            "Epoch 00058: LearningRateScheduler reducing learning rate to 0.0001.\n",
            "Epoch 58/100\n",
            "311/311 [==============================] - 5s 16ms/step - loss: 209.2675 - mae: 209.2675 - val_loss: 305.9538 - val_mae: 305.9538 - lr: 1.0000e-04\n",
            "\n",
            "Epoch 00059: LearningRateScheduler reducing learning rate to 0.0001.\n",
            "Epoch 59/100\n",
            "311/311 [==============================] - 5s 15ms/step - loss: 209.4592 - mae: 209.4592 - val_loss: 309.5909 - val_mae: 309.5910 - lr: 1.0000e-04\n",
            "\n",
            "Epoch 00060: LearningRateScheduler reducing learning rate to 0.0001.\n",
            "Epoch 60/100\n",
            "311/311 [==============================] - 5s 16ms/step - loss: 205.3891 - mae: 205.3892 - val_loss: 303.6664 - val_mae: 303.6661 - lr: 1.0000e-04\n",
            "\n",
            "Epoch 00061: LearningRateScheduler reducing learning rate to 0.0001.\n",
            "Epoch 61/100\n",
            "311/311 [==============================] - 5s 16ms/step - loss: 204.4061 - mae: 204.4061 - val_loss: 310.8083 - val_mae: 310.8082 - lr: 1.0000e-04\n",
            "\n",
            "Epoch 00062: LearningRateScheduler reducing learning rate to 0.0001.\n",
            "Epoch 62/100\n",
            "311/311 [==============================] - 5s 16ms/step - loss: 205.6792 - mae: 205.6792 - val_loss: 306.0751 - val_mae: 306.0753 - lr: 1.0000e-04\n",
            "\n",
            "Epoch 00063: LearningRateScheduler reducing learning rate to 0.0001.\n",
            "Epoch 63/100\n",
            "311/311 [==============================] - 5s 15ms/step - loss: 204.1303 - mae: 204.1301 - val_loss: 301.6717 - val_mae: 301.6716 - lr: 1.0000e-04\n",
            "\n",
            "Epoch 00064: LearningRateScheduler reducing learning rate to 0.0001.\n",
            "Epoch 64/100\n",
            "311/311 [==============================] - 5s 16ms/step - loss: 202.7766 - mae: 202.7766 - val_loss: 301.9294 - val_mae: 301.9292 - lr: 1.0000e-04\n",
            "\n",
            "Epoch 00065: LearningRateScheduler reducing learning rate to 0.0001.\n",
            "Epoch 65/100\n",
            "311/311 [==============================] - 5s 15ms/step - loss: 200.2847 - mae: 200.2847 - val_loss: 306.0301 - val_mae: 306.0302 - lr: 1.0000e-04\n",
            "\n",
            "Epoch 00066: LearningRateScheduler reducing learning rate to 0.0001.\n",
            "Epoch 66/100\n",
            "311/311 [==============================] - 5s 16ms/step - loss: 206.8096 - mae: 206.8096 - val_loss: 310.7671 - val_mae: 310.7672 - lr: 1.0000e-04\n",
            "\n",
            "Epoch 00067: LearningRateScheduler reducing learning rate to 0.0001.\n",
            "Epoch 67/100\n",
            "311/311 [==============================] - 5s 15ms/step - loss: 209.3160 - mae: 209.3161 - val_loss: 309.9399 - val_mae: 309.9400 - lr: 1.0000e-04\n",
            "\n",
            "Epoch 00068: LearningRateScheduler reducing learning rate to 0.0001.\n",
            "Epoch 68/100\n",
            "311/311 [==============================] - 5s 16ms/step - loss: 209.2374 - mae: 209.2374 - val_loss: 305.7017 - val_mae: 305.7018 - lr: 1.0000e-04\n",
            "\n",
            "Epoch 00069: LearningRateScheduler reducing learning rate to 0.0001.\n",
            "Epoch 69/100\n",
            "311/311 [==============================] - 5s 15ms/step - loss: 204.1711 - mae: 204.1710 - val_loss: 303.5510 - val_mae: 303.5510 - lr: 1.0000e-04\n",
            "\n",
            "Epoch 00070: LearningRateScheduler reducing learning rate to 0.0001.\n",
            "Epoch 70/100\n",
            "311/311 [==============================] - 5s 16ms/step - loss: 203.2193 - mae: 203.2192 - val_loss: 304.9269 - val_mae: 304.9269 - lr: 1.0000e-04\n",
            "\n",
            "Epoch 00071: LearningRateScheduler reducing learning rate to 0.0001.\n",
            "Epoch 71/100\n",
            "311/311 [==============================] - 5s 16ms/step - loss: 205.3228 - mae: 205.3227 - val_loss: 302.3060 - val_mae: 302.3059 - lr: 1.0000e-04\n",
            "\n",
            "Epoch 00072: LearningRateScheduler reducing learning rate to 0.0001.\n",
            "Epoch 72/100\n",
            "311/311 [==============================] - 5s 16ms/step - loss: 202.3856 - mae: 202.3856 - val_loss: 302.3574 - val_mae: 302.3573 - lr: 1.0000e-04\n",
            "\n",
            "Epoch 00073: LearningRateScheduler reducing learning rate to 0.0001.\n",
            "Epoch 73/100\n",
            "311/311 [==============================] - 5s 15ms/step - loss: 201.2010 - mae: 201.2010 - val_loss: 304.9819 - val_mae: 304.9820 - lr: 1.0000e-04\n",
            "\n",
            "Epoch 00074: LearningRateScheduler reducing learning rate to 0.0001.\n",
            "Epoch 74/100\n",
            "311/311 [==============================] - 5s 16ms/step - loss: 201.6887 - mae: 201.6888 - val_loss: 301.8647 - val_mae: 301.8647 - lr: 1.0000e-04\n",
            "\n",
            "Epoch 00075: LearningRateScheduler reducing learning rate to 0.0001.\n",
            "Epoch 75/100\n",
            "311/311 [==============================] - 5s 15ms/step - loss: 201.9662 - mae: 201.9661 - val_loss: 306.4873 - val_mae: 306.4873 - lr: 1.0000e-04\n",
            "\n",
            "Epoch 00076: LearningRateScheduler reducing learning rate to 0.0001.\n",
            "Epoch 76/100\n",
            "311/311 [==============================] - 5s 15ms/step - loss: 202.3177 - mae: 202.3177 - val_loss: 305.2165 - val_mae: 305.2165 - lr: 1.0000e-04\n",
            "\n",
            "Epoch 00077: LearningRateScheduler reducing learning rate to 0.0001.\n",
            "Epoch 77/100\n",
            "311/311 [==============================] - 5s 15ms/step - loss: 201.7316 - mae: 201.7317 - val_loss: 300.5964 - val_mae: 300.5964 - lr: 1.0000e-04\n",
            "\n",
            "Epoch 00078: LearningRateScheduler reducing learning rate to 0.0001.\n",
            "Epoch 78/100\n",
            "311/311 [==============================] - 5s 16ms/step - loss: 200.6104 - mae: 200.6104 - val_loss: 305.6341 - val_mae: 305.6341 - lr: 1.0000e-04\n",
            "\n",
            "Epoch 00079: LearningRateScheduler reducing learning rate to 0.0001.\n",
            "Epoch 79/100\n",
            "311/311 [==============================] - 5s 15ms/step - loss: 201.0478 - mae: 201.0479 - val_loss: 305.3388 - val_mae: 305.3390 - lr: 1.0000e-04\n",
            "\n",
            "Epoch 00080: LearningRateScheduler reducing learning rate to 0.0001.\n",
            "Epoch 80/100\n",
            "311/311 [==============================] - 5s 15ms/step - loss: 198.2581 - mae: 198.2581 - val_loss: 302.8119 - val_mae: 302.8120 - lr: 1.0000e-04\n",
            "\n",
            "Epoch 00081: LearningRateScheduler reducing learning rate to 0.0001.\n",
            "Epoch 81/100\n",
            "311/311 [==============================] - 5s 15ms/step - loss: 197.2729 - mae: 197.2728 - val_loss: 308.5109 - val_mae: 308.5109 - lr: 1.0000e-04\n",
            "\n",
            "Epoch 00082: LearningRateScheduler reducing learning rate to 0.0001.\n",
            "Epoch 82/100\n",
            "311/311 [==============================] - 5s 15ms/step - loss: 197.8445 - mae: 197.8446 - val_loss: 302.1824 - val_mae: 302.1822 - lr: 1.0000e-04\n",
            "\n",
            "Epoch 00083: LearningRateScheduler reducing learning rate to 0.0001.\n",
            "Epoch 83/100\n",
            "311/311 [==============================] - 5s 15ms/step - loss: 195.0217 - mae: 195.0217 - val_loss: 305.9005 - val_mae: 305.9005 - lr: 1.0000e-04\n",
            "\n",
            "Epoch 00084: LearningRateScheduler reducing learning rate to 0.0001.\n",
            "Epoch 84/100\n",
            "311/311 [==============================] - 5s 15ms/step - loss: 197.3244 - mae: 197.3244 - val_loss: 302.2693 - val_mae: 302.2692 - lr: 1.0000e-04\n",
            "\n",
            "Epoch 00085: LearningRateScheduler reducing learning rate to 0.0001.\n",
            "Epoch 85/100\n",
            "311/311 [==============================] - 5s 16ms/step - loss: 193.9597 - mae: 193.9598 - val_loss: 305.1473 - val_mae: 305.1473 - lr: 1.0000e-04\n",
            "\n",
            "Epoch 00086: LearningRateScheduler reducing learning rate to 0.0001.\n",
            "Epoch 86/100\n",
            "311/311 [==============================] - 5s 15ms/step - loss: 198.5330 - mae: 198.5331 - val_loss: 300.5144 - val_mae: 300.5143 - lr: 1.0000e-04\n",
            "\n",
            "Epoch 00087: LearningRateScheduler reducing learning rate to 0.0001.\n",
            "Epoch 87/100\n",
            "311/311 [==============================] - 5s 16ms/step - loss: 195.6601 - mae: 195.6600 - val_loss: 304.5073 - val_mae: 304.5071 - lr: 1.0000e-04\n",
            "\n",
            "Epoch 00088: LearningRateScheduler reducing learning rate to 0.0001.\n",
            "Epoch 88/100\n",
            "311/311 [==============================] - 5s 16ms/step - loss: 195.1882 - mae: 195.1881 - val_loss: 307.5169 - val_mae: 307.5171 - lr: 1.0000e-04\n",
            "\n",
            "Epoch 00089: LearningRateScheduler reducing learning rate to 0.0001.\n",
            "Epoch 89/100\n",
            "311/311 [==============================] - 5s 15ms/step - loss: 196.8029 - mae: 196.8030 - val_loss: 304.6256 - val_mae: 304.6257 - lr: 1.0000e-04\n",
            "\n",
            "Epoch 00090: LearningRateScheduler reducing learning rate to 0.0001.\n",
            "Epoch 90/100\n",
            "311/311 [==============================] - 5s 15ms/step - loss: 197.0850 - mae: 197.0850 - val_loss: 308.3371 - val_mae: 308.3373 - lr: 1.0000e-04\n",
            "\n",
            "Epoch 00091: LearningRateScheduler reducing learning rate to 0.0001.\n",
            "Epoch 91/100\n",
            "311/311 [==============================] - 5s 15ms/step - loss: 193.7338 - mae: 193.7338 - val_loss: 302.8682 - val_mae: 302.8683 - lr: 1.0000e-04\n",
            "\n",
            "Epoch 00092: LearningRateScheduler reducing learning rate to 0.0001.\n",
            "Epoch 92/100\n",
            "311/311 [==============================] - 5s 15ms/step - loss: 195.5401 - mae: 195.5402 - val_loss: 302.7071 - val_mae: 302.7071 - lr: 1.0000e-04\n",
            "\n",
            "Epoch 00093: LearningRateScheduler reducing learning rate to 0.0001.\n",
            "Epoch 93/100\n",
            "311/311 [==============================] - 5s 16ms/step - loss: 198.1966 - mae: 198.1966 - val_loss: 308.3526 - val_mae: 308.3527 - lr: 1.0000e-04\n",
            "\n",
            "Epoch 00094: LearningRateScheduler reducing learning rate to 0.0001.\n",
            "Epoch 94/100\n",
            "311/311 [==============================] - 5s 16ms/step - loss: 196.2997 - mae: 196.2998 - val_loss: 303.6134 - val_mae: 303.6133 - lr: 1.0000e-04\n",
            "\n",
            "Epoch 00095: LearningRateScheduler reducing learning rate to 0.0001.\n",
            "Epoch 95/100\n",
            "311/311 [==============================] - 5s 16ms/step - loss: 196.9343 - mae: 196.9343 - val_loss: 303.5547 - val_mae: 303.5547 - lr: 1.0000e-04\n",
            "\n",
            "Epoch 00096: LearningRateScheduler reducing learning rate to 0.0001.\n",
            "Epoch 96/100\n",
            "311/311 [==============================] - 5s 16ms/step - loss: 196.6960 - mae: 196.6959 - val_loss: 308.6662 - val_mae: 308.6662 - lr: 1.0000e-04\n",
            "\n",
            "Epoch 00097: LearningRateScheduler reducing learning rate to 0.0001.\n",
            "Epoch 97/100\n",
            "311/311 [==============================] - 5s 16ms/step - loss: 195.9720 - mae: 195.9721 - val_loss: 297.3450 - val_mae: 297.3452 - lr: 1.0000e-04\n",
            "\n",
            "Epoch 00098: LearningRateScheduler reducing learning rate to 0.0001.\n",
            "Epoch 98/100\n",
            "311/311 [==============================] - 5s 15ms/step - loss: 192.9478 - mae: 192.9478 - val_loss: 307.4815 - val_mae: 307.4815 - lr: 1.0000e-04\n",
            "\n",
            "Epoch 00099: LearningRateScheduler reducing learning rate to 0.0001.\n",
            "Epoch 99/100\n",
            "311/311 [==============================] - 5s 16ms/step - loss: 194.0470 - mae: 194.0470 - val_loss: 305.8559 - val_mae: 305.8558 - lr: 1.0000e-04\n",
            "\n",
            "Epoch 00100: LearningRateScheduler reducing learning rate to 0.0001.\n",
            "Epoch 100/100\n",
            "311/311 [==============================] - 5s 16ms/step - loss: 194.0163 - mae: 194.0164 - val_loss: 305.2899 - val_mae: 305.2901 - lr: 1.0000e-04\n",
            "complete 495.48\n"
          ],
          "name": "stdout"
        }
      ]
    },
    {
      "cell_type": "code",
      "metadata": {
        "id": "7yxbDBZGP_1i",
        "colab_type": "code",
        "colab": {}
      },
      "source": [
        ""
      ],
      "execution_count": 0,
      "outputs": []
    },
    {
      "cell_type": "code",
      "metadata": {
        "id": "X7IRhJuBP_42",
        "colab_type": "code",
        "colab": {}
      },
      "source": [
        "def model_forecast(model, series, window_size):\n",
        "    series = series[..., np.newaxis]\n",
        "    ds = tf.data.Dataset.from_tensor_slices(series)\n",
        "    ds = ds.window(window_size, shift=1, drop_remainder=True)\n",
        "    ds = ds.flat_map(lambda w: w.batch(window_size))\n",
        "    ds = ds.batch(32).prefetch(1)\n",
        "    forecast = model.predict(ds)\n",
        "    return forecast\n"
      ],
      "execution_count": 0,
      "outputs": []
    },
    {
      "cell_type": "code",
      "metadata": {
        "id": "9cI7h9SjP_8A",
        "colab_type": "code",
        "outputId": "93c1d470-6193-4226-edf6-39b6457d67c7",
        "colab": {
          "base_uri": "https://localhost:8080/",
          "height": 50
        }
      },
      "source": [
        "tic = time.time()\n",
        "forecast = model_forecast(model, series, window_size)\n",
        "\n",
        "toc = time.time()\n",
        "print(f'complete {toc-tic:.2f}')\n",
        "\n",
        "forecast.shape"
      ],
      "execution_count": 178,
      "outputs": [
        {
          "output_type": "stream",
          "text": [
            "complete 15.74\n"
          ],
          "name": "stdout"
        },
        {
          "output_type": "execute_result",
          "data": {
            "text/plain": [
              "(87865, 72, 1)"
            ]
          },
          "metadata": {
            "tags": []
          },
          "execution_count": 178
        }
      ]
    },
    {
      "cell_type": "code",
      "metadata": {
        "id": "lSUznTjqP_-U",
        "colab_type": "code",
        "outputId": "be261a09-eb63-4d6a-8ee1-a1cc226752d8",
        "colab": {
          "base_uri": "https://localhost:8080/",
          "height": 34
        }
      },
      "source": [
        "forecast_t = np.squeeze(forecast[split_time - window_size:-1, -1, 0])\n",
        "forecast_t.shape"
      ],
      "execution_count": 179,
      "outputs": [
        {
          "output_type": "execute_result",
          "data": {
            "text/plain": [
              "(8736,)"
            ]
          },
          "metadata": {
            "tags": []
          },
          "execution_count": 179
        }
      ]
    },
    {
      "cell_type": "code",
      "metadata": {
        "id": "20bDAElAfVCK",
        "colab_type": "code",
        "colab": {}
      },
      "source": [
        "forecast_t = np.maximum(0, forecast_t)"
      ],
      "execution_count": 0,
      "outputs": []
    },
    {
      "cell_type": "code",
      "metadata": {
        "id": "WDanxXH-aNs6",
        "colab_type": "code",
        "outputId": "61d1f3f8-2493-463f-9301-7914836a8dca",
        "colab": {
          "base_uri": "https://localhost:8080/",
          "height": 34
        }
      },
      "source": [
        "x_test.shape"
      ],
      "execution_count": 181,
      "outputs": [
        {
          "output_type": "execute_result",
          "data": {
            "text/plain": [
              "(8736,)"
            ]
          },
          "metadata": {
            "tags": []
          },
          "execution_count": 181
        }
      ]
    },
    {
      "cell_type": "code",
      "metadata": {
        "id": "sg_4NcvMQABI",
        "colab_type": "code",
        "outputId": "5565fddf-1a65-4561-ecaf-f15a88948e7d",
        "colab": {
          "base_uri": "https://localhost:8080/",
          "height": 50
        }
      },
      "source": [
        "print(keras.metrics.mean_squared_error(x_test, forecast_t).numpy())\n",
        "print(keras.metrics.mean_absolute_error(x_test, forecast_t).numpy())"
      ],
      "execution_count": 182,
      "outputs": [
        {
          "output_type": "stream",
          "text": [
            "531070.56\n",
            "353.85632\n"
          ],
          "name": "stdout"
        }
      ]
    },
    {
      "cell_type": "code",
      "metadata": {
        "id": "q68I9bltiqPx",
        "colab_type": "code",
        "colab": {}
      },
      "source": [
        "# 72 hours\n",
        "# 175984.48\n",
        "# 226.0615\n",
        "\n",
        "\n",
        "# 168 hours\n",
        "# 193299.69\n",
        "# 233.09029\n",
        "\n",
        "# 72 hours\n",
        "# 257745.0\n",
        "# 269.14697\n",
        "\n",
        "# 48 hours\n",
        "# 348802.28\n",
        "# 319.51108"
      ],
      "execution_count": 0,
      "outputs": []
    },
    {
      "cell_type": "code",
      "metadata": {
        "id": "ob5zKMIAiCet",
        "colab_type": "code",
        "colab": {}
      },
      "source": [
        ""
      ],
      "execution_count": 0,
      "outputs": []
    },
    {
      "cell_type": "code",
      "metadata": {
        "id": "hW-2BJPsOCRv",
        "colab_type": "code",
        "colab": {}
      },
      "source": [
        "display_window = 72\n",
        "plt.figure(figsize=(12, 6))\n",
        "plt.plot(time_test[-display_window:], x_test[-display_window:], label='Actual')\n",
        "plt.plot(time_test[-display_window:], forecast_t[-display_window:], label='RNN forecast')\n",
        "plt.plot(time_test[-display_window:], naive_forecast[-display_window:], label='Naive forecast')\n",
        "plt.plot(time_test[-display_window:], diff_forecast[-display_window:], label='DIFF forecast')\n",
        "plt.legend()\n",
        "plt.show()"
      ],
      "execution_count": 0,
      "outputs": []
    },
    {
      "cell_type": "code",
      "metadata": {
        "id": "vAexyXxlau8G",
        "colab_type": "code",
        "colab": {}
      },
      "source": [
        "hdict = history.history\n",
        "\n",
        "mx,val_mx,loss,val_loss = hdict['mae'],hdict['val_mae'],hdict['loss'],hdict['val_loss']\n",
        "\n",
        "epochs_range = range(EPOCHS)\n",
        "\n",
        "plt.figure(figsize=(8, 4))\n",
        "\n",
        "plt.plot(epochs_range, mx, label='Training MAE')\n",
        "plt.plot(epochs_range, val_mx, label='Validation MAE')\n",
        "\n",
        "plt.ylim(200,600) \n",
        "plt.legend()\n",
        "plt.grid()\n",
        "plt.show()"
      ],
      "execution_count": 0,
      "outputs": []
    },
    {
      "cell_type": "code",
      "metadata": {
        "id": "feyU_X2hmH4y",
        "colab_type": "code",
        "colab": {}
      },
      "source": [
        ""
      ],
      "execution_count": 0,
      "outputs": []
    },
    {
      "cell_type": "markdown",
      "metadata": {
        "id": "0bFKVasunF3Q",
        "colab_type": "text"
      },
      "source": [
        "## Features dimension"
      ]
    },
    {
      "cell_type": "code",
      "metadata": {
        "id": "NGcy0vVGnF8c",
        "colab_type": "code",
        "colab": {}
      },
      "source": [
        "1/0"
      ],
      "execution_count": 0,
      "outputs": []
    },
    {
      "cell_type": "code",
      "metadata": {
        "id": "yfcoPN87B0k4",
        "colab_type": "code",
        "colab": {
          "base_uri": "https://localhost:8080/",
          "height": 282
        },
        "outputId": "16b49c48-75bb-42fb-a6a7-5457a4d94c9d"
      },
      "source": [
        "X=np.arange(EPOCHS)\n",
        "Y=[]\n",
        "lr=0.001\n",
        "for x in X:\n",
        "    lr = scheduler(x, lr)\n",
        "    Y.append(lr)\n",
        "plt.plot(X,Y)"
      ],
      "execution_count": 194,
      "outputs": [
        {
          "output_type": "execute_result",
          "data": {
            "text/plain": [
              "[<matplotlib.lines.Line2D at 0x7f6e08574eb8>]"
            ]
          },
          "metadata": {
            "tags": []
          },
          "execution_count": 194
        },
        {
          "output_type": "display_data",
          "data": {
            "image/png": "[encoded data removed]",
            "text/plain": [
              "<Figure size 432x288 with 1 Axes>"
            ]
          },
          "metadata": {
            "tags": [],
            "needs_background": "light"
          }
        }
      ]
    },
    {
      "cell_type": "code",
      "metadata": {
        "id": "rq2Agd92Dobo",
        "colab_type": "code",
        "colab": {}
      },
      "source": [
        ""
      ],
      "execution_count": 0,
      "outputs": []
    },
    {
      "cell_type": "code",
      "metadata": {
        "id": "S1kpYmOKjwXl",
        "colab_type": "code",
        "colab": {}
      },
      "source": [
        "solar = df['SOLAR_PV'].values + df['SOLAR_THERMAL'].values\n",
        "wind  = df['WIND'].values\n",
        "total = df['TOTAL'].values"
      ],
      "execution_count": 0,
      "outputs": []
    },
    {
      "cell_type": "code",
      "metadata": {
        "id": "-QAEiAeVjwbO",
        "colab_type": "code",
        "colab": {}
      },
      "source": [
        "series = np.concatenate((solar[:,np.newaxis], \n",
        "                         wind[:,np.newaxis], \n",
        "                         total[:,np.newaxis]), axis=1)"
      ],
      "execution_count": 0,
      "outputs": []
    },
    {
      "cell_type": "code",
      "metadata": {
        "id": "tpYgZJjkjwfF",
        "colab_type": "code",
        "colab": {}
      },
      "source": [
        "split_time = 79_200\n",
        "\n",
        "time_train = dt[:split_time]\n",
        "x_train = series[:split_time]\n",
        "\n",
        "time_test = dt[split_time:]\n",
        "x_test = series[split_time:]"
      ],
      "execution_count": 0,
      "outputs": []
    },
    {
      "cell_type": "code",
      "metadata": {
        "id": "J7duEnSWj6jt",
        "colab_type": "code",
        "colab": {}
      },
      "source": [
        "def windowed_dataset_features(series, y_col, window_size, batch_size, shuffle_buffer):\n",
        "    ds = tf.data.Dataset.from_tensor_slices(series)\n",
        "    ds = ds.window(window_size + 1, shift=1, drop_remainder=True)\n",
        "\n",
        "    ds = ds.flat_map(lambda w: w.batch(window_size + 1))\n",
        "    ds = ds.shuffle(shuffle_buffer)\n",
        "    # NB  y_col dimension (e.g. solar)\n",
        "    # mapping tensors X (batch, timesteps, features) --> Y (batch, timesteps)\n",
        "    ds = ds.map(lambda w: (w[:-1], w[1:, y_col]))\n",
        "    return ds.batch(batch_size).prefetch(1)"
      ],
      "execution_count": 0,
      "outputs": []
    },
    {
      "cell_type": "code",
      "metadata": {
        "id": "teIfZhFTj6m2",
        "colab_type": "code",
        "colab": {}
      },
      "source": [
        "y_col = 0\n",
        "window_size =  72  \n",
        "batch_size = 32\n",
        "shuffle_buffer_size = 1000"
      ],
      "execution_count": 0,
      "outputs": []
    },
    {
      "cell_type": "code",
      "metadata": {
        "id": "TQ9QId7Vj6pN",
        "colab_type": "code",
        "colab": {}
      },
      "source": [
        "x_train = x_train[-20_000:]"
      ],
      "execution_count": 0,
      "outputs": []
    },
    {
      "cell_type": "code",
      "metadata": {
        "id": "ExSroGU1j6tA",
        "colab_type": "code",
        "colab": {}
      },
      "source": [
        "train_set = windowed_dataset_features(x_train,\n",
        "                             y_col=y_col, \n",
        "                             window_size=window_size, \n",
        "                             batch_size=batch_size, \n",
        "                             shuffle_buffer=shuffle_buffer_size)\n",
        "\n",
        "val_set = windowed_dataset_features(x_test, \n",
        "                           y_col=y_col,\n",
        "                             window_size=window_size, \n",
        "                             batch_size=batch_size, \n",
        "                             shuffle_buffer=shuffle_buffer_size)"
      ],
      "execution_count": 0,
      "outputs": []
    },
    {
      "cell_type": "code",
      "metadata": {
        "id": "0D0FHXlgj6vL",
        "colab_type": "code",
        "colab": {}
      },
      "source": [
        "model = tf.keras.models.Sequential([\n",
        "    tf.keras.layers.Conv1D(filters=128, \n",
        "                           kernel_size=6,\n",
        "                        strides=1, padding=\"causal\",\n",
        "                        activation=\"relu\",\n",
        "                        input_shape=[None, series.shape[1]]),    # features dimension in the Input\n",
        "    tf.keras.layers.LSTM(60, return_sequences=True),\n",
        "    tf.keras.layers.LSTM(60, return_sequences=True),\n",
        "    tf.keras.layers.Dense(30, activation=\"relu\"),\n",
        "    tf.keras.layers.Dense(10, activation=\"relu\"),\n",
        "    tf.keras.layers.Dense(1)  \n",
        "])\n"
      ],
      "execution_count": 0,
      "outputs": []
    },
    {
      "cell_type": "code",
      "metadata": {
        "id": "d-_bG_FIj6rb",
        "colab_type": "code",
        "colab": {}
      },
      "source": [
        ""
      ],
      "execution_count": 0,
      "outputs": []
    }
  ]
}