{
  "nbformat": 4,
  "nbformat_minor": 0,
  "metadata": {
    "colab": {
      "name": "preprocess.ipynb",
      "provenance": [],
      "collapsed_sections": [],
      "toc_visible": true,
      "authorship_tag": "ABX9TyNNxVuPU8oAKw1MyzbSQdiT",
      "include_colab_link": true
    },
    "kernelspec": {
      "name": "python3",
      "display_name": "Python 3"
    }
  },
  "cells": [
    {
      "cell_type": "markdown",
      "metadata": {
        "id": "view-in-github",
        "colab_type": "text"
      },
      "source": [
        "<a href=\"https://colab.research.google.com/github/dlevonian/california_renewables/blob/master/preprocess.ipynb\" target=\"_parent\"><img src=\"https://colab.research.google.com/assets/colab-badge.svg\" alt=\"Open In Colab\"/></a>"
      ]
    },
    {
      "cell_type": "markdown",
      "metadata": {
        "id": "aH7hG183fbbB",
        "colab_type": "text"
      },
      "source": [
        "# California ISO: renewables output data 2010-2020"
      ]
    },
    {
      "cell_type": "markdown",
      "metadata": {
        "id": "4rJQoRcd07BT",
        "colab_type": "text"
      },
      "source": [
        "## Preprocess and compile a single CSV file"
      ]
    },
    {
      "cell_type": "code",
      "metadata": {
        "id": "4Hvytp-L08Qk",
        "colab_type": "code",
        "colab": {}
      },
      "source": [
        "import numpy as np\n",
        "import time\n",
        "\n",
        "import os\n",
        "import re\n",
        "import csv\n",
        "\n",
        "import urllib3\n",
        "urllib3.disable_warnings()\n",
        "\n",
        "import datetime\n",
        "import shutil"
      ],
      "execution_count": 0,
      "outputs": []
    },
    {
      "cell_type": "code",
      "metadata": {
        "id": "U8JNcwPj-uHl",
        "colab_type": "code",
        "outputId": "b62ca480-733e-41bc-8568-33ac70be3045",
        "colab": {
          "base_uri": "https://localhost:8080/",
          "height": 121
        }
      },
      "source": [
        "from google.colab import drive\n",
        "drive.mount('/content/drive', force_remount=True)"
      ],
      "execution_count": 2,
      "outputs": [
        {
          "output_type": "stream",
          "text": [
            "Go to this URL in a browser: https://accounts.google.com/o/oauth2/auth?client_id=947318989803-6bn6qk8qdgf4n4g3pfee6491hc0brc4i.apps.googleusercontent.com&redirect_uri=urn%3aietf%3awg%3aoauth%3a2.0%3aoob&response_type=code&scope=email%20https%3a%2f%2fwww.googleapis.com%2fauth%2fdocs.test%20https%3a%2f%2fwww.googleapis.com%2fauth%2fdrive%20https%3a%2f%2fwww.googleapis.com%2fauth%2fdrive.photos.readonly%20https%3a%2f%2fwww.googleapis.com%2fauth%2fpeopleapi.readonly\n",
            "\n",
            "Enter your authorization code:\n",
            "··········\n",
            "Mounted at /content/drive\n"
          ],
          "name": "stdout"
        }
      ]
    },
    {
      "cell_type": "code",
      "metadata": {
        "id": "55pGGBhn-uPA",
        "colab_type": "code",
        "colab": {}
      },
      "source": [
        "path = '/content/drive/My Drive/NYCDSA/california_renewables/'  # Google Drive path"
      ],
      "execution_count": 0,
      "outputs": []
    },
    {
      "cell_type": "code",
      "metadata": {
        "id": "db2nXSFA6Q9u",
        "colab_type": "code",
        "colab": {}
      },
      "source": [
        "def string_from_date(date):\n",
        "    year = str(date.year)\n",
        "    day = str(date.day)\n",
        "    month = str(date.month)\n",
        "    if len(day)==1: day='0'+day\n",
        "    if len(month)==1: month='0'+month\n",
        "    return year+month+day"
      ],
      "execution_count": 0,
      "outputs": []
    },
    {
      "cell_type": "code",
      "metadata": {
        "id": "4lzxBT4VMlS9",
        "colab_type": "code",
        "colab": {}
      },
      "source": [
        "date += datetime.timedelta(days=1)"
      ],
      "execution_count": 0,
      "outputs": []
    },
    {
      "cell_type": "code",
      "metadata": {
        "id": "ZBBtqdzy1Poi",
        "colab_type": "code",
        "colab": {}
      },
      "source": [
        "def download_caiso_source(start_date = '4/20/2010', end_date = '4/30/2020'):\n",
        "    \n",
        "    \"\"\"Download the collection of txt files from California ISO website\n",
        "    All files come in the following format:\n",
        "    LAST:   http://content.caiso.com/green/renewrpt/20200430_DailyRenewablesWatch.txt\n",
        "    FIRST:  http://content.caiso.com/green/renewrpt/20100420_DailyRenewablesWatch.txt\n",
        "    Returns:\n",
        "        saved txt files in caiso_raw_files/ \n",
        "    \"\"\"\n",
        "    http = urllib3.PoolManager()\n",
        "    tic = time.time()\n",
        "\n",
        "    date = datetime.datetime.strptime(start_date, '%m/%d/%Y')\n",
        "    counter=0\n",
        "    while True:\n",
        "        str_date = string_from_date(date)\n",
        "\n",
        "        file_name = f'{str_date}_DailyRenewablesWatch.txt'\n",
        "        url = f'http://content.caiso.com/green/renewrpt/{file_name}'\n",
        "        \n",
        "        time.sleep(1+np.random.uniform(0,1))        \n",
        "        with http.request('GET', url, preload_content=False) as r,\\\n",
        "                    open(path+'caiso_raw_files/'+file_name, 'wb') as out_file:       \n",
        "            shutil.copyfileobj(r, out_file)\n",
        "        \n",
        "        if date==datetime.datetime.strptime(end_date, '%m/%d/%Y'):\n",
        "            break\n",
        "\n",
        "        date += datetime.timedelta(days=1)\n",
        "        \n",
        "        counter+=1\n",
        "        if counter%10==0:\n",
        "            toc = time.time()\n",
        "            print(f'downloaded and saved {counter} files in {toc-tic:.1f} sec')\n"
      ],
      "execution_count": 0,
      "outputs": []
    },
    {
      "cell_type": "code",
      "metadata": {
        "id": "ETIetbkSunmA",
        "colab_type": "code",
        "colab": {}
      },
      "source": [
        "def numeric_rows_from_lines(lines, str_date):\n",
        "    rows = []\n",
        "    for line in lines:\n",
        "        numbers = [int(s) for s in re.findall('\\d+|-\\d+', line)]\n",
        "        if len(numbers)==8:\n",
        "            rows.append([str_date]+numbers)  \n",
        "        elif len(numbers)==7:\n",
        "            rows.append([str_date]+numbers+[0])\n",
        "        elif len(numbers)==6:\n",
        "            rows[numbers[0]-1]+=numbers[1:]\n",
        "    return rows"
      ],
      "execution_count": 0,
      "outputs": []
    },
    {
      "cell_type": "code",
      "metadata": {
        "id": "xrloM63U27BE",
        "colab_type": "code",
        "colab": {}
      },
      "source": [
        "def compile_caiso_csv(start_date = '4/20/2010', end_date = '4/30/2020'):\n",
        "\n",
        "    tic = time.time()\n",
        "    date = datetime.datetime.strptime(start_date, '%m/%d/%Y')\n",
        "    date_1 = datetime.datetime.strptime(end_date, '%m/%d/%Y')\n",
        "    output_file = f'caiso_{string_from_date(date)}_{string_from_date(date_1)}.csv'\n",
        "\n",
        "    headers = 'DATE HOUR GEOTHERMAL BIOMASS BIOGAS SMALL_HYDRO WIND SOLAR_PV SOLAR_THERMAL RENEWABLES NUCLEAR THERMAL IMPORTS HYDRO'\n",
        "    if not os.path.exists(path+'output.csv'):\n",
        "        with open(path+output_file, 'a') as f:\n",
        "            writer = csv.writer(f)\n",
        "            writer.writerow(headers.split())\n",
        "\n",
        "    counter=0\n",
        "    missed_dates=[]\n",
        "\n",
        "    with open(path+output_file, \"a\") as f:\n",
        "        writer = csv.writer(f)\n",
        "\n",
        "        while True:\n",
        "            str_date = string_from_date(date)\n",
        "\n",
        "            file_name = f'{str_date}_DailyRenewablesWatch.txt'\n",
        "            with open(path+'caiso_raw_files/'+file_name, 'r') as t:\n",
        "                lines = list(t.readlines())  \n",
        "            \n",
        "            try:\n",
        "                writer.writerows(numeric_rows_from_lines(lines, str_date))\n",
        "            except:\n",
        "                missed_dates.append(str_date)            \n",
        "\n",
        "            counter+=1\n",
        "            if counter%100==0:\n",
        "                toc = time.time()\n",
        "                print(f'compiled {counter} files in {toc-tic:.1f} sec')\n",
        "\n",
        "            if date==date_1: break\n",
        "            date += datetime.timedelta(days=1)\n",
        "\n",
        "    print(f'Compiled all {counter} files.')\n",
        "    print(missed_dates)"
      ],
      "execution_count": 0,
      "outputs": []
    },
    {
      "cell_type": "markdown",
      "metadata": {
        "id": "Tm0fzqy7ftVw",
        "colab_type": "text"
      },
      "source": [
        "Text files for three dates were corrupt and needed manual data imputation (mean of the neighboring dates):\n",
        "- 06/30/2011\n",
        "- 11/06/2011\n",
        "- 03/12/2017"
      ]
    },
    {
      "cell_type": "code",
      "metadata": {
        "id": "sjYmIkVB27Dz",
        "colab_type": "code",
        "colab": {}
      },
      "source": [
        "compile_caiso_csv()"
      ],
      "execution_count": 0,
      "outputs": []
    },
    {
      "cell_type": "code",
      "metadata": {
        "id": "0dRb-9D5Ih6A",
        "colab_type": "code",
        "colab": {
          "base_uri": "https://localhost:8080/",
          "height": 34
        },
        "outputId": "b05dda8a-1431-4cb9-8fb9-429ab2a497c7"
      },
      "source": [
        "files = os.listdir(path+'caiso_raw_files/')\n",
        "\n",
        "# files include 3 corrupt originals coupled with imputed clean copies\n",
        "# so the actual number of files processed by compile_caiso_csv is len(files)-3\n",
        "len(files)"
      ],
      "execution_count": 7,
      "outputs": [
        {
          "output_type": "execute_result",
          "data": {
            "text/plain": [
              "3667"
            ]
          },
          "metadata": {
            "tags": []
          },
          "execution_count": 7
        }
      ]
    },
    {
      "cell_type": "code",
      "metadata": {
        "id": "oucHdl5KIh82",
        "colab_type": "code",
        "colab": {}
      },
      "source": [
        ""
      ],
      "execution_count": 0,
      "outputs": []
    },
    {
      "cell_type": "code",
      "metadata": {
        "id": "aN5miSegzjIV",
        "colab_type": "code",
        "colab": {}
      },
      "source": [
        ""
      ],
      "execution_count": 0,
      "outputs": []
    },
    {
      "cell_type": "code",
      "metadata": {
        "id": "9ZU5D9Bs1Ms-",
        "colab_type": "code",
        "colab": {}
      },
      "source": [
        ""
      ],
      "execution_count": 0,
      "outputs": []
    },
    {
      "cell_type": "code",
      "metadata": {
        "id": "5UEjKh7C1Mvt",
        "colab_type": "code",
        "colab": {}
      },
      "source": [
        ""
      ],
      "execution_count": 0,
      "outputs": []
    }
  ]
}