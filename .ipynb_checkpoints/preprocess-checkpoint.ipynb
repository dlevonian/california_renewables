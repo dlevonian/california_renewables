{
 "cells": [
  {
   "cell_type": "markdown",
   "metadata": {
    "colab_type": "text",
    "id": "view-in-github"
   },
   "source": [
    "<a href=\"https://colab.research.google.com/github/dlevonian/california_renewables/blob/master/preprocess.ipynb\" target=\"_parent\"><img src=\"https://colab.research.google.com/assets/colab-badge.svg\" alt=\"Open In Colab\"/></a>"
   ]
  },
  {
   "cell_type": "markdown",
   "metadata": {
    "colab_type": "text",
    "id": "aH7hG183fbbB"
   },
   "source": [
    "# California ISO: renewables output data 2010-2020"
   ]
  },
  {
   "cell_type": "markdown",
   "metadata": {
    "colab_type": "text",
    "id": "4rJQoRcd07BT"
   },
   "source": [
    "## Preprocess and compile a single CSV file"
   ]
  },
  {
   "cell_type": "code",
   "execution_count": 0,
   "metadata": {
    "colab": {},
    "colab_type": "code",
    "id": "4Hvytp-L08Qk"
   },
   "outputs": [],
   "source": [
    "import numpy as np\n",
    "import time\n",
    "\n",
    "import os\n",
    "import re\n",
    "import csv\n",
    "\n",
    "import urllib3\n",
    "urllib3.disable_warnings()\n",
    "\n",
    "import datetime\n",
    "import shutil"
   ]
  },
  {
   "cell_type": "code",
   "execution_count": 2,
   "metadata": {
    "colab": {
     "base_uri": "https://localhost:8080/",
     "height": 121
    },
    "colab_type": "code",
    "id": "U8JNcwPj-uHl",
    "outputId": "b62ca480-733e-41bc-8568-33ac70be3045"
   },
   "outputs": [
    {
     "name": "stdout",
     "output_type": "stream",
     "text": [
      "Go to this URL in a browser: https://accounts.google.com/o/oauth2/auth?client_id=947318989803-6bn6qk8qdgf4n4g3pfee6491hc0brc4i.apps.googleusercontent.com&redirect_uri=urn%3aietf%3awg%3aoauth%3a2.0%3aoob&response_type=code&scope=email%20https%3a%2f%2fwww.googleapis.com%2fauth%2fdocs.test%20https%3a%2f%2fwww.googleapis.com%2fauth%2fdrive%20https%3a%2f%2fwww.googleapis.com%2fauth%2fdrive.photos.readonly%20https%3a%2f%2fwww.googleapis.com%2fauth%2fpeopleapi.readonly\n",
      "\n",
      "Enter your authorization code:\n",
      "··········\n",
      "Mounted at /content/drive\n"
     ]
    }
   ],
   "source": [
    "from google.colab import drive\n",
    "drive.mount('/content/drive', force_remount=True)"
   ]
  },
  {
   "cell_type": "code",
   "execution_count": 0,
   "metadata": {
    "colab": {},
    "colab_type": "code",
    "id": "55pGGBhn-uPA"
   },
   "outputs": [],
   "source": [
    "path = '/content/drive/My Drive/NYCDSA/california_renewables/'  # Google Drive path"
   ]
  },
  {
   "cell_type": "code",
   "execution_count": 0,
   "metadata": {
    "colab": {},
    "colab_type": "code",
    "id": "db2nXSFA6Q9u"
   },
   "outputs": [],
   "source": [
    "def string_from_date(date):\n",
    "    year = str(date.year)\n",
    "    day = str(date.day)\n",
    "    month = str(date.month)\n",
    "    if len(day)==1: day='0'+day\n",
    "    if len(month)==1: month='0'+month\n",
    "    return year+month+day"
   ]
  },
  {
   "cell_type": "code",
   "execution_count": 0,
   "metadata": {
    "colab": {},
    "colab_type": "code",
    "id": "4lzxBT4VMlS9"
   },
   "outputs": [],
   "source": [
    "date += datetime.timedelta(days=1)"
   ]
  },
  {
   "cell_type": "code",
   "execution_count": 0,
   "metadata": {
    "colab": {},
    "colab_type": "code",
    "id": "ZBBtqdzy1Poi"
   },
   "outputs": [],
   "source": [
    "def download_caiso_source(start_date = '4/20/2010', end_date = '4/30/2020'):\n",
    "    \n",
    "    \"\"\"Download the collection of txt files from California ISO website\n",
    "    All files come in the following format:\n",
    "    LAST:   http://content.caiso.com/green/renewrpt/20200430_DailyRenewablesWatch.txt\n",
    "    FIRST:  http://content.caiso.com/green/renewrpt/20100420_DailyRenewablesWatch.txt\n",
    "    Returns:\n",
    "        saved txt files in caiso_raw_files/ \n",
    "    \"\"\"\n",
    "    http = urllib3.PoolManager()\n",
    "    tic = time.time()\n",
    "\n",
    "    date = datetime.datetime.strptime(start_date, '%m/%d/%Y')\n",
    "    counter=0\n",
    "    while True:\n",
    "        str_date = string_from_date(date)\n",
    "\n",
    "        file_name = f'{str_date}_DailyRenewablesWatch.txt'\n",
    "        url = f'http://content.caiso.com/green/renewrpt/{file_name}'\n",
    "        \n",
    "        time.sleep(1+np.random.uniform(0,1))        \n",
    "        with http.request('GET', url, preload_content=False) as r,\\\n",
    "                    open(path+'caiso_raw_files/'+file_name, 'wb') as out_file:       \n",
    "            shutil.copyfileobj(r, out_file)\n",
    "        \n",
    "        if date==datetime.datetime.strptime(end_date, '%m/%d/%Y'):\n",
    "            break\n",
    "\n",
    "        date += datetime.timedelta(days=1)\n",
    "        \n",
    "        counter+=1\n",
    "        if counter%10==0:\n",
    "            toc = time.time()\n",
    "            print(f'downloaded and saved {counter} files in {toc-tic:.1f} sec')\n"
   ]
  },
  {
   "cell_type": "code",
   "execution_count": 0,
   "metadata": {
    "colab": {},
    "colab_type": "code",
    "id": "ETIetbkSunmA"
   },
   "outputs": [],
   "source": [
    "def numeric_rows_from_lines(lines, str_date):\n",
    "    rows = []\n",
    "    for line in lines:\n",
    "        numbers = [int(s) for s in re.findall('\\d+|-\\d+', line)]\n",
    "        if len(numbers)==8:\n",
    "            rows.append([str_date]+numbers)  \n",
    "        elif len(numbers)==7:\n",
    "            rows.append([str_date]+numbers+[0])\n",
    "        elif len(numbers)==6:\n",
    "            rows[numbers[0]-1]+=numbers[1:]\n",
    "    return rows"
   ]
  },
  {
   "cell_type": "code",
   "execution_count": 0,
   "metadata": {
    "colab": {},
    "colab_type": "code",
    "id": "xrloM63U27BE"
   },
   "outputs": [],
   "source": [
    "def compile_caiso_csv(start_date = '4/20/2010', end_date = '4/30/2020'):\n",
    "\n",
    "    tic = time.time()\n",
    "    date = datetime.datetime.strptime(start_date, '%m/%d/%Y')\n",
    "    date_1 = datetime.datetime.strptime(end_date, '%m/%d/%Y')\n",
    "    output_file = f'caiso_{string_from_date(date)}_{string_from_date(date_1)}.csv'\n",
    "\n",
    "    headers = 'DATE HOUR GEOTHERMAL BIOMASS BIOGAS SMALL_HYDRO WIND SOLAR_PV SOLAR_THERMAL RENEWABLES NUCLEAR THERMAL IMPORTS HYDRO'\n",
    "    if not os.path.exists(path+'output.csv'):\n",
    "        with open(path+output_file, 'a') as f:\n",
    "            writer = csv.writer(f)\n",
    "            writer.writerow(headers.split())\n",
    "\n",
    "    counter=0\n",
    "    missed_dates=[]\n",
    "\n",
    "    with open(path+output_file, \"a\") as f:\n",
    "        writer = csv.writer(f)\n",
    "\n",
    "        while True:\n",
    "            str_date = string_from_date(date)\n",
    "\n",
    "            file_name = f'{str_date}_DailyRenewablesWatch.txt'\n",
    "            with open(path+'caiso_raw_files/'+file_name, 'r') as t:\n",
    "                lines = list(t.readlines())  \n",
    "            \n",
    "            try:\n",
    "                writer.writerows(numeric_rows_from_lines(lines, str_date))\n",
    "            except:\n",
    "                missed_dates.append(str_date)            \n",
    "\n",
    "            counter+=1\n",
    "            if counter%100==0:\n",
    "                toc = time.time()\n",
    "                print(f'compiled {counter} files in {toc-tic:.1f} sec')\n",
    "\n",
    "            if date==date_1: break\n",
    "            date += datetime.timedelta(days=1)\n",
    "\n",
    "    print(f'Compiled all {counter} files.')\n",
    "    print(missed_dates)"
   ]
  },
  {
   "cell_type": "markdown",
   "metadata": {
    "colab_type": "text",
    "id": "Tm0fzqy7ftVw"
   },
   "source": [
    "Text files for three dates were corrupt and needed manual data imputation (mean of the neighboring dates):\n",
    "- 06/30/2011\n",
    "- 11/06/2011\n",
    "- 03/12/2017"
   ]
  },
  {
   "cell_type": "code",
   "execution_count": 0,
   "metadata": {
    "colab": {},
    "colab_type": "code",
    "id": "sjYmIkVB27Dz"
   },
   "outputs": [],
   "source": [
    "compile_caiso_csv()"
   ]
  },
  {
   "cell_type": "code",
   "execution_count": 7,
   "metadata": {
    "colab": {
     "base_uri": "https://localhost:8080/",
     "height": 34
    },
    "colab_type": "code",
    "id": "0dRb-9D5Ih6A",
    "outputId": "b05dda8a-1431-4cb9-8fb9-429ab2a497c7"
   },
   "outputs": [
    {
     "data": {
      "text/plain": [
       "3667"
      ]
     },
     "execution_count": 7,
     "metadata": {
      "tags": []
     },
     "output_type": "execute_result"
    }
   ],
   "source": [
    "files = os.listdir(path+'caiso_raw_files/')\n",
    "\n",
    "# files include 3 corrupt originals coupled with imputed clean copies\n",
    "# so the actual number of files processed by compile_caiso_csv is len(files)-3\n",
    "len(files)"
   ]
  },
  {
   "cell_type": "code",
   "execution_count": 0,
   "metadata": {
    "colab": {},
    "colab_type": "code",
    "id": "oucHdl5KIh82"
   },
   "outputs": [],
   "source": []
  },
  {
   "cell_type": "code",
   "execution_count": 0,
   "metadata": {
    "colab": {},
    "colab_type": "code",
    "id": "aN5miSegzjIV"
   },
   "outputs": [],
   "source": []
  },
  {
   "cell_type": "code",
   "execution_count": 0,
   "metadata": {
    "colab": {},
    "colab_type": "code",
    "id": "9ZU5D9Bs1Ms-"
   },
   "outputs": [],
   "source": []
  },
  {
   "cell_type": "code",
   "execution_count": 0,
   "metadata": {
    "colab": {},
    "colab_type": "code",
    "id": "5UEjKh7C1Mvt"
   },
   "outputs": [],
   "source": []
  }
 ],
 "metadata": {
  "colab": {
   "authorship_tag": "ABX9TyNNxVuPU8oAKw1MyzbSQdiT",
   "collapsed_sections": [],
   "include_colab_link": true,
   "name": "preprocess.ipynb",
   "provenance": [],
   "toc_visible": true
  },
  "kernelspec": {
   "display_name": "Python 3",
   "language": "python",
   "name": "python3"
  },
  "language_info": {
   "codemirror_mode": {
    "name": "ipython",
    "version": 3
   },
   "file_extension": ".py",
   "mimetype": "text/x-python",
   "name": "python",
   "nbconvert_exporter": "python",
   "pygments_lexer": "ipython3",
   "version": "3.7.6"
  }
 },
 "nbformat": 4,
 "nbformat_minor": 1
}
